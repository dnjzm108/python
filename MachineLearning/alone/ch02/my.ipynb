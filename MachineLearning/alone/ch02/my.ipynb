{
  "nbformat": 4,
  "nbformat_minor": 0,
  "metadata": {
    "colab": {
      "provenance": []
    },
    "kernelspec": {
      "name": "python3",
      "display_name": "Python 3"
    },
    "language_info": {
      "name": "python"
    }
  },
  "cells": [
    {
      "cell_type": "code",
      "execution_count": 41,
      "metadata": {
        "id": "hKkqrN5f2ZpB"
      },
      "outputs": [],
      "source": [
        "#회귀\n",
        "import matplotlib.pyplot as plt\n",
        "from random import *\n",
        "from sklearn.model_selection import train_test_split\n",
        "import numpy as np\n",
        "from sklearn.neighbors import KNeighborsRegressor\n",
        "# ~Classfier 분류 모델  ~Regressor 회귀모델"
      ]
    },
    {
      "cell_type": "code",
      "source": [
        "perch_length = [round(random(),2)*10 + 10 + i  for i in range(1,50)]\n",
        "perch_length.sort()\n",
        "perch_weight = [randint(50,100) * randint(1,10) + i for i in perch_length]\n",
        "perch_weight.sort()\n",
        "\n",
        "perch_length = np.array(perch_length)\n",
        "perch_weight = np.array(perch_weight)\n",
        "\n",
        "plt.scatter(perch_length,perch_weight)\n",
        "\n",
        "plt.xlabel('lenght')\n",
        "plt.ylabel('weight')\n",
        "plt.show()"
      ],
      "metadata": {
        "colab": {
          "base_uri": "https://localhost:8080/",
          "height": 279
        },
        "id": "prK21osX2ck_",
        "outputId": "51cf6ced-b60d-4e10-8c4e-59aafa2f0477"
      },
      "execution_count": 56,
      "outputs": [
        {
          "output_type": "display_data",
          "data": {
            "text/plain": [
              "<Figure size 432x288 with 1 Axes>"
            ],
            "image/png": "[encoded data removed]"
          },
          "metadata": {
            "needs_background": "light"
          }
        }
      ]
    },
    {
      "cell_type": "code",
      "source": [
        "train_input,test_input,train_target,test_target = train_test_split(perch_length,perch_weight,random_state=42)\n",
        "\n",
        "train_input = train_input.reshape(-1,1)\n",
        "test_input = test_input.reshape(-1,1)\n",
        "print('train_input : ',train_input)\n",
        "print('test_input : ',test_input)"
      ],
      "metadata": {
        "colab": {
          "base_uri": "https://localhost:8080/"
        },
        "id": "4x3PdCtX2c1g",
        "outputId": "03add1a4-c3d1-4118-8978-26cb6f9505af"
      },
      "execution_count": 57,
      "outputs": [
        {
          "output_type": "stream",
          "name": "stdout",
          "text": [
            "train_input :  [[23.7]\n",
            " [19.8]\n",
            " [22. ]\n",
            " [56.8]\n",
            " [58.6]\n",
            " [64.2]\n",
            " [30.8]\n",
            " [23.9]\n",
            " [31.2]\n",
            " [40.6]\n",
            " [48.6]\n",
            " [43. ]\n",
            " [17.2]\n",
            " [59.1]\n",
            " [46.4]\n",
            " [21.6]\n",
            " [42.5]\n",
            " [28. ]\n",
            " [51.6]\n",
            " [17.8]\n",
            " [36.6]\n",
            " [19. ]\n",
            " [52.2]\n",
            " [50.5]\n",
            " [40.4]\n",
            " [54.6]\n",
            " [25.7]\n",
            " [37.5]\n",
            " [33.6]\n",
            " [65. ]\n",
            " [34.6]\n",
            " [22.6]\n",
            " [59. ]\n",
            " [30.4]\n",
            " [42.2]\n",
            " [54.3]]\n",
            "test_input :  [[29.8]\n",
            " [63.8]\n",
            " [64.5]\n",
            " [62.6]\n",
            " [32.9]\n",
            " [41.9]\n",
            " [41.1]\n",
            " [41. ]\n",
            " [44.4]\n",
            " [33.7]\n",
            " [28.4]\n",
            " [20.8]\n",
            " [49.3]]\n"
          ]
        }
      ]
    },
    {
      "cell_type": "code",
      "source": [
        "knr = KNeighborsRegressor()\n",
        "knr.fit(train_input,train_target)\n",
        "\n",
        "result = knr.score(test_input,test_target)\n",
        "print('result : ',result)\n",
        "\n",
        "from sklearn.metrics import mean_absolute_error\n",
        "\n",
        "test_prediction = knr.predict(test_input)\n",
        "mae = mean_absolute_error(test_target,test_prediction)\n",
        "# 평균적으로 얼마나 차이가 나는지\n",
        "print('mae : ',mae)"
      ],
      "metadata": {
        "colab": {
          "base_uri": "https://localhost:8080/"
        },
        "id": "kLdpjhM02deo",
        "outputId": "6b310189-9ea3-4fde-a71b-2fde2836e6a2"
      },
      "execution_count": 58,
      "outputs": [
        {
          "output_type": "stream",
          "name": "stdout",
          "text": [
            "result :  0.932267674254075\n",
            "mae :  24.401538461538454\n"
          ]
        }
      ]
    },
    {
      "cell_type": "code",
      "source": [
        "# 과대적합 과 과소 적합\n",
        "train = knr.score(train_input,train_target)\n",
        "print('train : ',train)\n",
        "test = knr.score(test_input,test_target)\n",
        "print('test : ',test)"
      ],
      "metadata": {
        "colab": {
          "base_uri": "https://localhost:8080/"
        },
        "id": "ZxAGS9ZD2duH",
        "outputId": "a9f0f8ca-06ef-4463-ddd1-5f452dcf2662"
      },
      "execution_count": 59,
      "outputs": [
        {
          "output_type": "stream",
          "name": "stdout",
          "text": [
            "train :  0.9323407455565619\n",
            "test :  0.932267674254075\n"
          ]
        }
      ]
    },
    {
      "cell_type": "code",
      "source": [
        "#  이웃 개수가 적어지면 과대 적합   많아지면 과소적합\n",
        "knr.n_neighbors = 3\n",
        "knr.fit(train_input,train_target)\n",
        "\n",
        "train = knr.score(train_input,train_target)\n",
        "print('train : ',train)\n",
        "test = knr.score(test_input,test_target)\n",
        "print('test : ',test)\n",
        "\n",
        "[try_test] = knr.predict([[100]])\n",
        "print('try_test : ',try_test) \n",
        "\n",
        "plt.scatter(train_input,train_target)\n",
        "plt.scatter(100,try_test,marker='^')\n",
        "plt.scatter(test_input,test_target,marker='D')\n",
        "\n",
        "plt.xlabel('length')\n",
        "plt.ylabel('weight')\n",
        "plt.show()\n",
        "\n",
        "# 트레이닝 범위를 벋어나면 이상한 값을 가지게 된다. \n",
        "# 이유는 가장 가까운 값의 평균이기 때문에 트레이닝된 범위 에서만 사용 가능한 알고리즘이다. "
      ],
      "metadata": {
        "colab": {
          "base_uri": "https://localhost:8080/",
          "height": 333
        },
        "id": "v9W9_cIe2d8h",
        "outputId": "9d120f5a-5b7d-457a-81b8-72e5ccc1b210"
      },
      "execution_count": 80,
      "outputs": [
        {
          "output_type": "stream",
          "name": "stdout",
          "text": [
            "train :  0.962743948569968\n",
            "test :  0.9471732778373109\n",
            "try_test :  841.4\n"
          ]
        },
        {
          "output_type": "display_data",
          "data": {
            "text/plain": [
              "<Figure size 432x288 with 1 Axes>"
            ],
            "image/png": "[encoded data removed]"
          },
          "metadata": {
            "needs_background": "light"
          }
        }
      ]
    },
    {
      "cell_type": "markdown",
      "source": [
        "# 선형 회귀\n",
        "\n",
        "LinearRegression"
      ],
      "metadata": {
        "id": "1i6k2RcQRCAf"
      }
    },
    {
      "cell_type": "code",
      "source": [
        "from sklearn.linear_model import LinearRegression\n",
        "\n",
        "lr = LinearRegression()\n",
        "# 선형 회기 모델 훈련\n",
        "lr.fit(train_input,train_target)\n",
        "\n",
        "# 50cm 농어에 대한 예측\n",
        "print(lr.predict([[50]]))\n",
        "#      기울기  ,    y절편\n",
        "# 농어무게 = 기울기(a) * 농어길이 + 절편(b)\n",
        "print(lr.coef_,lr.intercept_)"
      ],
      "metadata": {
        "colab": {
          "base_uri": "https://localhost:8080/"
        },
        "id": "0UMfxsg1RM4z",
        "outputId": "fb74b64e-257e-47f2-b6a1-792cfceaead8"
      },
      "execution_count": 83,
      "outputs": [
        {
          "output_type": "stream",
          "name": "stdout",
          "text": [
            "[585.3468368]\n",
            "[12.67744961] -48.52564351357222\n"
          ]
        }
      ]
    },
    {
      "cell_type": "code",
      "source": [
        "# 학습한 직선 그리기\n",
        "\n",
        "# 훈련 세트의 산점도를 그리기\n",
        "plt.scatter(train_input,train_target)\n",
        "\n",
        "# 15 에서 50까지 1차 방정식 그래프를 그립니다.\n",
        "plt.plot([15,70],[15*lr.coef_ + lr.intercept_,70*lr.coef_+lr.intercept_])\n",
        "\n",
        "# 50cm 농어 데이터\n",
        "plt.scatter(50,585.3,marker='^')\n",
        "plt.show()\n",
        "\n",
        "print(lr.score(train_input,train_target))\n",
        "\n",
        "print(lr.score(test_input,test_target))"
      ],
      "metadata": {
        "colab": {
          "base_uri": "https://localhost:8080/",
          "height": 301
        },
        "id": "7mMfwOPHRNP5",
        "outputId": "d229751f-eb6f-49c8-c185-00d45a704cb5"
      },
      "execution_count": 86,
      "outputs": [
        {
          "output_type": "display_data",
          "data": {
            "text/plain": [
              "<Figure size 432x288 with 1 Axes>"
            ],
            "image/png": "[encoded data removed]"
          },
          "metadata": {
            "needs_background": "light"
          }
        },
        {
          "output_type": "stream",
          "name": "stdout",
          "text": [
            "0.9351413549456755\n",
            "0.9392406779725421\n"
          ]
        }
      ]
    },
    {
      "cell_type": "code",
      "source": [
        "# 다항 회귀\n",
        "\n",
        "# 무게 = 기울기(제곱된 길이의 기울기) * 길이**2 + 기울기 * 길이 + 절편\n",
        "# lr = LinearRegression()\n",
        "train_poly = np.column_stack((train_input ** 2,train_input))\n",
        "test_poly = np.column_stack((test_input ** 2 ,test_input))\n",
        "\n",
        "lr.fit(train_poly,train_target)\n",
        "\n",
        "print(lr.predict([[50**2 , 50]]))\n",
        "\n",
        "print(lr.coef_,lr.intercept_)\n",
        "# 무게 = 0.07 * 길이**2 - 6.69 * 길이 + 55.47"
      ],
      "metadata": {
        "colab": {
          "base_uri": "https://localhost:8080/"
        },
        "id": "mB0SnmupRNsX",
        "outputId": "cca262b6-0c47-4e2f-a1ec-41b94b1d15e6"
      },
      "execution_count": 102,
      "outputs": [
        {
          "output_type": "stream",
          "name": "stdout",
          "text": [
            "[577.1346916]\n",
            "[0.07482753 6.69184789] 55.473480937016404\n"
          ]
        }
      ]
    },
    {
      "cell_type": "code",
      "source": [
        "# 학습한 직선 그리기\n",
        "\n",
        "# 구간별 직선을 그리기 위해 15에서 49까지  정수 배열을 만든다.\n",
        "point = np.arange(15,70)\n",
        "\n",
        "# 훈련 세트의 산점도를 그립니다.\n",
        "plt.scatter(train_input,train_target)\n",
        "\n",
        "# 15에서 49까지 2차 방정식 그래프를 그립니다.\n",
        "plt.plot(point,  0.07 * point**2 + 6.6 * point + 55.4)\n",
        "\n",
        "# 50cm 농어 데이터 \n",
        "plt.scatter([50],[577.13],marker='^')\n",
        "plt.show()\n",
        "\n",
        "print(lr.score(train_poly,train_target))\n",
        "\n",
        "print(lr.score(test_poly,test_target))"
      ],
      "metadata": {
        "colab": {
          "base_uri": "https://localhost:8080/",
          "height": 301
        },
        "id": "wMkpcDSTRN7e",
        "outputId": "e015d3dc-3a6c-4d62-a0aa-e54a69fa2ea3"
      },
      "execution_count": 111,
      "outputs": [
        {
          "output_type": "display_data",
          "data": {
            "text/plain": [
              "<Figure size 432x288 with 1 Axes>"
            ],
            "image/png": "[encoded data removed]"
          },
          "metadata": {
            "needs_background": "light"
          }
        },
        {
          "output_type": "stream",
          "name": "stdout",
          "text": [
            "0.9402017586876321\n",
            "0.9497489956820524\n"
          ]
        }
      ]
    },
    {
      "cell_type": "markdown",
      "source": [
        "# 특성 공학 과 규제"
      ],
      "metadata": {
        "id": "1mraXJ2AerSY"
      }
    },
    {
      "cell_type": "code",
      "source": [
        "# 다중 회귀  multiple regression\n",
        "#  판다스로 데이터 준비 - 데이터 프레임 DataFrame\n",
        "\n",
        "import pandas as pd\n",
        "\n",
        "df = pd.read_csv('https://bit.ly/perch_csv')\n",
        "perch_full = df.to_numpy()\n",
        "print(perch_full)\n",
        "# 길이 높이 두께"
      ],
      "metadata": {
        "colab": {
          "base_uri": "https://localhost:8080/"
        },
        "id": "hNCxmceNROI2",
        "outputId": "6db73337-9638-4fa2-95c9-046704140093"
      },
      "execution_count": 112,
      "outputs": [
        {
          "output_type": "stream",
          "name": "stdout",
          "text": [
            "[[ 8.4   2.11  1.41]\n",
            " [13.7   3.53  2.  ]\n",
            " [15.    3.82  2.43]\n",
            " [16.2   4.59  2.63]\n",
            " [17.4   4.59  2.94]\n",
            " [18.    5.22  3.32]\n",
            " [18.7   5.2   3.12]\n",
            " [19.    5.64  3.05]\n",
            " [19.6   5.14  3.04]\n",
            " [20.    5.08  2.77]\n",
            " [21.    5.69  3.56]\n",
            " [21.    5.92  3.31]\n",
            " [21.    5.69  3.67]\n",
            " [21.3   6.38  3.53]\n",
            " [22.    6.11  3.41]\n",
            " [22.    5.64  3.52]\n",
            " [22.    6.11  3.52]\n",
            " [22.    5.88  3.52]\n",
            " [22.    5.52  4.  ]\n",
            " [22.5   5.86  3.62]\n",
            " [22.5   6.79  3.62]\n",
            " [22.7   5.95  3.63]\n",
            " [23.    5.22  3.63]\n",
            " [23.5   6.28  3.72]\n",
            " [24.    7.29  3.72]\n",
            " [24.    6.38  3.82]\n",
            " [24.6   6.73  4.17]\n",
            " [25.    6.44  3.68]\n",
            " [25.6   6.56  4.24]\n",
            " [26.5   7.17  4.14]\n",
            " [27.3   8.32  5.14]\n",
            " [27.5   7.17  4.34]\n",
            " [27.5   7.05  4.34]\n",
            " [27.5   7.28  4.57]\n",
            " [28.    7.82  4.2 ]\n",
            " [28.7   7.59  4.64]\n",
            " [30.    7.62  4.77]\n",
            " [32.8  10.03  6.02]\n",
            " [34.5  10.26  6.39]\n",
            " [35.   11.49  7.8 ]\n",
            " [36.5  10.88  6.86]\n",
            " [36.   10.61  6.74]\n",
            " [37.   10.84  6.26]\n",
            " [37.   10.57  6.37]\n",
            " [39.   11.14  7.49]\n",
            " [39.   11.14  6.  ]\n",
            " [39.   12.43  7.35]\n",
            " [40.   11.93  7.11]\n",
            " [40.   11.73  7.22]\n",
            " [40.   12.38  7.46]\n",
            " [40.   11.14  6.63]\n",
            " [42.   12.8   6.87]\n",
            " [43.   11.93  7.28]\n",
            " [43.   12.51  7.42]\n",
            " [43.5  12.6   8.14]\n",
            " [44.   12.49  7.6 ]]\n"
          ]
        }
      ]
    },
    {
      "cell_type": "code",
      "source": [
        "# 다항 특성 만들기 \n",
        "from sklearn.preprocessing import PolynomialFeatures\n",
        "\n",
        "# degree =2\n",
        "poly = PolynomialFeatures()\n",
        "poly.fit([[2,3]])\n",
        "\n",
        "# 1(bias), 2,3,2**2,2*3,3**2\n",
        "print(poly.transform([[2,3]]))"
      ],
      "metadata": {
        "colab": {
          "base_uri": "https://localhost:8080/"
        },
        "id": "wIaKvjq4ROVJ",
        "outputId": "cf34bc5a-0158-41f7-cfb9-84c279eb77c4"
      },
      "execution_count": 115,
      "outputs": [
        {
          "output_type": "stream",
          "name": "stdout",
          "text": [
            "[[1. 2. 3. 4. 6. 9.]]\n"
          ]
        }
      ]
    },
    {
      "cell_type": "code",
      "source": [
        "# LinearRegression\n",
        "\n",
        "poly = PolynomialFeatures(include_bias=False)\n",
        "\n",
        "poly.fit(train_input)\n",
        "train_poly = poly.transform(train_input)\n",
        "\n",
        "print(train_poly.shape)\n",
        "\n",
        "poly.get_feature_names()\n",
        "\n",
        "test_poly = poly.transform(test_input)"
      ],
      "metadata": {
        "colab": {
          "base_uri": "https://localhost:8080/"
        },
        "id": "OenZN9p6j8kf",
        "outputId": "9fd900dc-8ce7-4d36-ceb6-d8ec356f3d54"
      },
      "execution_count": 117,
      "outputs": [
        {
          "output_type": "stream",
          "name": "stdout",
          "text": [
            "(36, 2)\n"
          ]
        },
        {
          "output_type": "stream",
          "name": "stderr",
          "text": [
            "/usr/local/lib/python3.8/dist-packages/sklearn/utils/deprecation.py:87: FutureWarning: Function get_feature_names is deprecated; get_feature_names is deprecated in 1.0 and will be removed in 1.2. Please use get_feature_names_out instead.\n",
            "  warnings.warn(msg, category=FutureWarning)\n"
          ]
        }
      ]
    },
    {
      "cell_type": "code",
      "source": [],
      "metadata": {
        "id": "ecL17JmGj85S"
      },
      "execution_count": null,
      "outputs": []
    },
    {
      "cell_type": "code",
      "source": [],
      "metadata": {
        "id": "RbpBCMIQj9GT"
      },
      "execution_count": null,
      "outputs": []
    },
    {
      "cell_type": "code",
      "source": [],
      "metadata": {
        "id": "oGfvz9Xmj9Sm"
      },
      "execution_count": null,
      "outputs": []
    },
    {
      "cell_type": "code",
      "source": [],
      "metadata": {
        "id": "VL6GDBV2j9ej"
      },
      "execution_count": null,
      "outputs": []
    },
    {
      "cell_type": "code",
      "source": [],
      "metadata": {
        "id": "xKMdw2lcj9rN"
      },
      "execution_count": null,
      "outputs": []
    },
    {
      "cell_type": "code",
      "source": [],
      "metadata": {
        "id": "6Yhm9LBWj93K"
      },
      "execution_count": null,
      "outputs": []
    }
  ]
}