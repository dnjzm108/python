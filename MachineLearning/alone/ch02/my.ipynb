{
  "nbformat": 4,
  "nbformat_minor": 0,
  "metadata": {
    "colab": {
      "provenance": []
    },
    "kernelspec": {
      "name": "python3",
      "display_name": "Python 3"
    },
    "language_info": {
      "name": "python"
    }
  },
  "cells": [
    {
      "cell_type": "code",
      "execution_count": 3,
      "metadata": {
        "id": "hKkqrN5f2ZpB"
      },
      "outputs": [],
      "source": [
        "#회귀\n",
        "import matplotlib.pyplot as plt\n",
        "from random import *\n",
        "from sklearn.model_selection import train_test_split\n",
        "import numpy as np\n",
        "from sklearn.neighbors import KNeighborsRegressor\n",
        "# ~Classfier 분류 모델  ~Regressor 회귀모델"
      ]
    },
    {
      "cell_type": "code",
      "source": [
        "perch_length = [round(random(),2)*10 + 10 + i  for i in range(1,50)]\n",
        "perch_length.sort()\n",
        "perch_weight = [randint(50,100) * randint(1,10) + i for i in perch_length]\n",
        "perch_weight.sort()\n",
        "\n",
        "perch_length = np.array(perch_length)\n",
        "perch_weight = np.array(perch_weight)\n",
        "\n",
        "plt.scatter(perch_length,perch_weight)\n",
        "\n",
        "plt.xlabel('lenght')\n",
        "plt.ylabel('weight')\n",
        "plt.show()"
      ],
      "metadata": {
        "colab": {
          "base_uri": "https://localhost:8080/",
          "height": 279
        },
        "id": "prK21osX2ck_",
        "outputId": "de7cbea7-0f14-4452-8032-acafdada22cb"
      },
      "execution_count": 4,
      "outputs": [
        {
          "output_type": "display_data",
          "data": {
            "text/plain": [
              "<Figure size 432x288 with 1 Axes>"
            ],
            "image/png": "[encoded data removed]"
          },
          "metadata": {
            "needs_background": "light"
          }
        }
      ]
    },
    {
      "cell_type": "code",
      "source": [
        "train_input,test_input,train_target,test_target = train_test_split(perch_length,perch_weight,random_state=42)\n",
        "\n",
        "train_input = train_input.reshape(-1,1)\n",
        "test_input = test_input.reshape(-1,1)\n",
        "print('train_input : ',train_input)\n",
        "print('test_input : ',test_input)"
      ],
      "metadata": {
        "colab": {
          "base_uri": "https://localhost:8080/"
        },
        "id": "4x3PdCtX2c1g",
        "outputId": "42b70686-a9cd-4e16-a5be-3ccf4ba5225c"
      },
      "execution_count": 5,
      "outputs": [
        {
          "output_type": "stream",
          "name": "stdout",
          "text": [
            "train_input :  [[24.1]\n",
            " [18.4]\n",
            " [22.2]\n",
            " [55.4]\n",
            " [56. ]\n",
            " [61.9]\n",
            " [31.6]\n",
            " [24.3]\n",
            " [31.6]\n",
            " [40.8]\n",
            " [48. ]\n",
            " [45.9]\n",
            " [15.1]\n",
            " [58.4]\n",
            " [46.9]\n",
            " [19.6]\n",
            " [43.4]\n",
            " [25.4]\n",
            " [52. ]\n",
            " [16.6]\n",
            " [37.9]\n",
            " [17.7]\n",
            " [52.7]\n",
            " [50.1]\n",
            " [40.4]\n",
            " [54.3]\n",
            " [25.1]\n",
            " [39. ]\n",
            " [34.4]\n",
            " [65.8]\n",
            " [37.6]\n",
            " [23.6]\n",
            " [56.2]\n",
            " [30.8]\n",
            " [43.3]\n",
            " [53.9]]\n",
            "test_input :  [[26.1]\n",
            " [61.5]\n",
            " [63.4]\n",
            " [60.7]\n",
            " [33. ]\n",
            " [41.3]\n",
            " [41.2]\n",
            " [41.1]\n",
            " [46.3]\n",
            " [37.5]\n",
            " [25.7]\n",
            " [19.6]\n",
            " [48.6]]\n"
          ]
        }
      ]
    },
    {
      "cell_type": "code",
      "source": [
        "knr = KNeighborsRegressor()\n",
        "knr.fit(train_input,train_target)\n",
        "\n",
        "result = knr.score(test_input,test_target)\n",
        "print('result : ',result)\n",
        "\n",
        "from sklearn.metrics import mean_absolute_error\n",
        "\n",
        "test_prediction = knr.predict(test_input)\n",
        "mae = mean_absolute_error(test_target,test_prediction)\n",
        "# 평균적으로 얼마나 차이가 나는지\n",
        "print('mae : ',mae)"
      ],
      "metadata": {
        "colab": {
          "base_uri": "https://localhost:8080/"
        },
        "id": "kLdpjhM02deo",
        "outputId": "d4889b8a-ac2a-4b18-f748-c9e1751a3ba1"
      },
      "execution_count": 6,
      "outputs": [
        {
          "output_type": "stream",
          "name": "stdout",
          "text": [
            "result :  0.9722765260943742\n",
            "mae :  26.364615384615384\n"
          ]
        }
      ]
    },
    {
      "cell_type": "code",
      "source": [
        "# 과대적합 과 과소 적합\n",
        "train = knr.score(train_input,train_target)\n",
        "print('train : ',train)\n",
        "test = knr.score(test_input,test_target)\n",
        "print('test : ',test)"
      ],
      "metadata": {
        "colab": {
          "base_uri": "https://localhost:8080/"
        },
        "id": "ZxAGS9ZD2duH",
        "outputId": "857dc749-c629-4fa6-d9ca-b52ada60075c"
      },
      "execution_count": 7,
      "outputs": [
        {
          "output_type": "stream",
          "name": "stdout",
          "text": [
            "train :  0.9735566892275049\n",
            "test :  0.9722765260943742\n"
          ]
        }
      ]
    },
    {
      "cell_type": "code",
      "source": [
        "#  이웃 개수가 적어지면 과대 적합   많아지면 과소적합\n",
        "knr.n_neighbors = 3\n",
        "knr.fit(train_input,train_target)\n",
        "\n",
        "train = knr.score(train_input,train_target)\n",
        "print('train : ',train)\n",
        "test = knr.score(test_input,test_target)\n",
        "print('test : ',test)\n",
        "\n",
        "[try_test] = knr.predict([[100]])\n",
        "print('try_test : ',try_test) \n",
        "\n",
        "plt.scatter(train_input,train_target)\n",
        "plt.scatter(100,try_test,marker='^')\n",
        "plt.scatter(test_input,test_target,marker='D')\n",
        "\n",
        "plt.xlabel('length')\n",
        "plt.ylabel('weight')\n",
        "plt.show()\n",
        "\n",
        "# 트레이닝 범위를 벋어나면 이상한 값을 가지게 된다. \n",
        "# 이유는 가장 가까운 값의 평균이기 때문에 트레이닝된 범위 에서만 사용 가능한 알고리즘이다. "
      ],
      "metadata": {
        "colab": {
          "base_uri": "https://localhost:8080/",
          "height": 333
        },
        "id": "v9W9_cIe2d8h",
        "outputId": "8b416864-b28f-4ea6-ff52-cf7b20b8698e"
      },
      "execution_count": 8,
      "outputs": [
        {
          "output_type": "stream",
          "name": "stdout",
          "text": [
            "train :  0.9850864577994874\n",
            "test :  0.9845165225038154\n",
            "try_test :  882.2666666666665\n"
          ]
        },
        {
          "output_type": "display_data",
          "data": {
            "text/plain": [
              "<Figure size 432x288 with 1 Axes>"
            ],
            "image/png": "[encoded data removed]"
          },
          "metadata": {
            "needs_background": "light"
          }
        }
      ]
    },
    {
      "cell_type": "markdown",
      "source": [
        "# 선형 회귀\n",
        "\n",
        "LinearRegression"
      ],
      "metadata": {
        "id": "1i6k2RcQRCAf"
      }
    },
    {
      "cell_type": "code",
      "source": [
        "from sklearn.linear_model import LinearRegression\n",
        "\n",
        "lr = LinearRegression()\n",
        "# 선형 회기 모델 훈련\n",
        "lr.fit(train_input,train_target)\n",
        "\n",
        "# 50cm 농어에 대한 예측\n",
        "print(lr.predict([[50]]))\n",
        "#      기울기  ,    y절편\n",
        "# 농어무게 = 기울기(a) * 농어길이 + 절편(b)\n",
        "print(lr.coef_,lr.intercept_)"
      ],
      "metadata": {
        "colab": {
          "base_uri": "https://localhost:8080/"
        },
        "id": "0UMfxsg1RM4z",
        "outputId": "63ea73e4-b9fb-4980-d6f7-cb10c640c12c"
      },
      "execution_count": 9,
      "outputs": [
        {
          "output_type": "stream",
          "name": "stdout",
          "text": [
            "[626.97693815]\n",
            "[15.57074518] -151.5603207684909\n"
          ]
        }
      ]
    },
    {
      "cell_type": "code",
      "source": [
        "# 학습한 직선 그리기\n",
        "\n",
        "# 훈련 세트의 산점도를 그리기\n",
        "plt.scatter(train_input,train_target)\n",
        "\n",
        "# 15 에서 50까지 1차 방정식 그래프를 그립니다.\n",
        "plt.plot([15,70],[15*lr.coef_ + lr.intercept_,70*lr.coef_+lr.intercept_])\n",
        "\n",
        "# 50cm 농어 데이터\n",
        "plt.scatter(50,585.3,marker='^')\n",
        "plt.show()\n",
        "\n",
        "print(lr.score(train_input,train_target))\n",
        "\n",
        "print(lr.score(test_input,test_target))"
      ],
      "metadata": {
        "colab": {
          "base_uri": "https://localhost:8080/",
          "height": 301
        },
        "id": "7mMfwOPHRNP5",
        "outputId": "54eb30c4-61c7-4d3b-9bf2-dc26ecc77626"
      },
      "execution_count": 10,
      "outputs": [
        {
          "output_type": "display_data",
          "data": {
            "text/plain": [
              "<Figure size 432x288 with 1 Axes>"
            ],
            "image/png": "[encoded data removed]"
          },
          "metadata": {
            "needs_background": "light"
          }
        },
        {
          "output_type": "stream",
          "name": "stdout",
          "text": [
            "0.9735037319624313\n",
            "0.9693130019905691\n"
          ]
        }
      ]
    },
    {
      "cell_type": "code",
      "source": [
        "# 다항 회귀\n",
        "\n",
        "# 무게 = 기울기(제곱된 길이의 기울기) * 길이**2 + 기울기 * 길이 + 절편\n",
        "# lr = LinearRegression()\n",
        "train_poly = np.column_stack((train_input ** 2,train_input))\n",
        "test_poly = np.column_stack((test_input ** 2 ,test_input))\n",
        "\n",
        "lr.fit(train_poly,train_target)\n",
        "\n",
        "print(lr.predict([[50**2 , 50]]))\n",
        "\n",
        "print(lr.coef_,lr.intercept_)\n",
        "# 무게 = 0.07 * 길이**2 - 6.69 * 길이 + 55.47"
      ],
      "metadata": {
        "colab": {
          "base_uri": "https://localhost:8080/"
        },
        "id": "mB0SnmupRNsX",
        "outputId": "deaa59dc-511d-42e1-86fa-91b3e8258699"
      },
      "execution_count": 11,
      "outputs": [
        {
          "output_type": "stream",
          "name": "stdout",
          "text": [
            "[612.62603515]\n",
            "[0.17479198 2.02240771] 74.52570830448462\n"
          ]
        }
      ]
    },
    {
      "cell_type": "code",
      "source": [
        "# 학습한 직선 그리기\n",
        "\n",
        "# 구간별 직선을 그리기 위해 15에서 49까지  정수 배열을 만든다.\n",
        "point = np.arange(15,70)\n",
        "\n",
        "# 훈련 세트의 산점도를 그립니다.\n",
        "plt.scatter(train_input,train_target)\n",
        "\n",
        "# 15에서 49까지 2차 방정식 그래프를 그립니다.\n",
        "plt.plot(point,  0.07 * point**2 + 6.6 * point + 55.4)\n",
        "\n",
        "# 50cm 농어 데이터 \n",
        "plt.scatter([50],[577.13],marker='^')\n",
        "plt.show()\n",
        "\n",
        "print(lr.score(train_poly,train_target))\n",
        "\n",
        "print(lr.score(test_poly,test_target))"
      ],
      "metadata": {
        "colab": {
          "base_uri": "https://localhost:8080/",
          "height": 301
        },
        "id": "wMkpcDSTRN7e",
        "outputId": "5198d872-cc90-48fd-f5ae-67f5407eb9df"
      },
      "execution_count": 12,
      "outputs": [
        {
          "output_type": "display_data",
          "data": {
            "text/plain": [
              "<Figure size 432x288 with 1 Axes>"
            ],
            "image/png": "[encoded data removed]"
          },
          "metadata": {
            "needs_background": "light"
          }
        },
        {
          "output_type": "stream",
          "name": "stdout",
          "text": [
            "0.9935263926469422\n",
            "0.9910094722529665\n"
          ]
        }
      ]
    },
    {
      "cell_type": "markdown",
      "source": [
        "# 특성 공학 과 규제"
      ],
      "metadata": {
        "id": "1mraXJ2AerSY"
      }
    },
    {
      "cell_type": "code",
      "source": [
        "# 다중 회귀  multiple regression\n",
        "#  판다스로 데이터 준비 - 데이터 프레임 DataFrame\n",
        "\n",
        "import pandas as pd\n",
        "\n",
        "df = pd.read_csv('https://bit.ly/perch_csv')\n",
        "perch_full = df.to_numpy()\n",
        "# print(perch_full)\n",
        "\n",
        "perch_full = np.array(perch_full)\n",
        "# print(len(perch_full))\n",
        "\n",
        "# 리스트 합치기 길이 와 높이 \n",
        "perch_input = np.column_stack((perch_full[:,0] , perch_full[:,1]))\n",
        "# 두께\n",
        "perch_data = perch_full[:,2]\n",
        "\n",
        "# print(perch_input)\n",
        "# print(perch_data)\n",
        "\n",
        "train_input,test_input,train_target,test_target = train_test_split(perch_input,perch_data,random_state=42)\n",
        "print('train_input :',train_input)\n",
        "print('test_input : ',test_input)\n",
        "print('train_target : ',train_target)\n",
        "print('test_target : ',test_target)\n",
        "\n",
        "# 길이 높이 두께"
      ],
      "metadata": {
        "colab": {
          "base_uri": "https://localhost:8080/"
        },
        "id": "hNCxmceNROI2",
        "outputId": "68e96bd5-8426-45a7-ee12-85395fa5031a"
      },
      "execution_count": 20,
      "outputs": [
        {
          "output_type": "stream",
          "name": "stdout",
          "text": [
            "train_input : [[19.6   5.14]\n",
            " [22.    5.88]\n",
            " [18.7   5.2 ]\n",
            " [17.4   4.59]\n",
            " [36.   10.61]\n",
            " [25.    6.44]\n",
            " [40.   11.93]\n",
            " [39.   12.43]\n",
            " [43.   11.93]\n",
            " [22.    5.64]\n",
            " [20.    5.08]\n",
            " [22.    6.11]\n",
            " [24.    7.29]\n",
            " [27.5   7.17]\n",
            " [43.   12.51]\n",
            " [40.   11.73]\n",
            " [24.    6.38]\n",
            " [21.    5.92]\n",
            " [27.5   7.05]\n",
            " [40.   12.38]\n",
            " [32.8  10.03]\n",
            " [26.5   7.17]\n",
            " [36.5  10.88]\n",
            " [13.7   3.53]\n",
            " [22.7   5.95]\n",
            " [15.    3.82]\n",
            " [37.   10.57]\n",
            " [35.   11.49]\n",
            " [28.7   7.59]\n",
            " [23.5   6.28]\n",
            " [39.   11.14]\n",
            " [21.    5.69]\n",
            " [23.    5.22]\n",
            " [22.    5.52]\n",
            " [44.   12.49]\n",
            " [22.5   6.79]\n",
            " [19.    5.64]\n",
            " [37.   10.84]\n",
            " [22.    6.11]\n",
            " [25.6   6.56]\n",
            " [42.   12.8 ]\n",
            " [34.5  10.26]]\n",
            "test_input :  [[ 8.4   2.11]\n",
            " [18.    5.22]\n",
            " [27.5   7.28]\n",
            " [21.3   6.38]\n",
            " [22.5   5.86]\n",
            " [40.   11.14]\n",
            " [30.    7.62]\n",
            " [24.6   6.73]\n",
            " [39.   11.14]\n",
            " [21.    5.69]\n",
            " [43.5  12.6 ]\n",
            " [16.2   4.59]\n",
            " [28.    7.82]\n",
            " [27.3   8.32]]\n",
            "train_target :  [3.04 3.52 3.12 2.94 6.74 3.68 7.11 7.35 7.28 3.52 2.77 3.52 3.72 4.34\n",
            " 7.42 7.22 3.82 3.31 4.34 7.46 6.02 4.14 6.86 2.   3.63 2.43 6.37 7.8\n",
            " 4.64 3.72 6.   3.56 3.63 4.   7.6  3.62 3.05 6.26 3.41 4.24 6.87 6.39]\n",
            "test_target :  [1.41 3.32 4.57 3.53 3.62 6.63 4.77 4.17 7.49 3.67 8.14 2.63 4.2  5.14]\n"
          ]
        }
      ]
    },
    {
      "cell_type": "code",
      "source": [
        "# 다항 특성 만들기 \n",
        "from sklearn.preprocessing import PolynomialFeatures\n",
        "\n",
        "# degree =2\n",
        "poly = PolynomialFeatures()\n",
        "poly.fit([[2,3]])\n",
        "\n",
        "# 1(bias), 2,3,2**2,2*3,3**2\n",
        "print(poly.transform([[2,3]]))\n"
      ],
      "metadata": {
        "colab": {
          "base_uri": "https://localhost:8080/"
        },
        "id": "wIaKvjq4ROVJ",
        "outputId": "5ce931cb-cd7e-4cc3-9b1b-02527d6f7bc7"
      },
      "execution_count": 21,
      "outputs": [
        {
          "output_type": "stream",
          "name": "stdout",
          "text": [
            "[[1. 2. 3. 4. 6. 9.]]\n"
          ]
        }
      ]
    },
    {
      "cell_type": "code",
      "source": [
        "# LinearRegression\n",
        "\n",
        "poly = PolynomialFeatures(include_bias=False)\n",
        "\n",
        "poly.fit(train_input)\n",
        "train_poly = poly.transform(train_input)\n",
        "\n",
        "print(train_poly.shape)\n",
        "\n",
        "poly.get_feature_names()\n",
        "\n",
        "test_poly = poly.transform(test_input)"
      ],
      "metadata": {
        "colab": {
          "base_uri": "https://localhost:8080/"
        },
        "id": "OenZN9p6j8kf",
        "outputId": "8092d914-a5cb-4728-9d81-5137ceca5b74"
      },
      "execution_count": 22,
      "outputs": [
        {
          "output_type": "stream",
          "name": "stdout",
          "text": [
            "(42, 5)\n"
          ]
        },
        {
          "output_type": "stream",
          "name": "stderr",
          "text": [
            "/usr/local/lib/python3.8/dist-packages/sklearn/utils/deprecation.py:87: FutureWarning: Function get_feature_names is deprecated; get_feature_names is deprecated in 1.0 and will be removed in 1.2. Please use get_feature_names_out instead.\n",
            "  warnings.warn(msg, category=FutureWarning)\n"
          ]
        },
        {
          "output_type": "execute_result",
          "data": {
            "text/plain": [
              "['x0', 'x1', 'x0^2', 'x0 x1', 'x1^2']"
            ]
          },
          "metadata": {},
          "execution_count": 22
        }
      ]
    },
    {
      "cell_type": "code",
      "source": [
        "from sklearn.linear_model import LinearRegression\n",
        "\n",
        "lr = LinearRegression()\n",
        "lr.fit(train_poly,train_target)\n",
        "\n",
        "print(lr.score(train_poly,train_target))\n",
        "\n",
        "print(lr.score(test_poly,test_target))"
      ],
      "metadata": {
        "colab": {
          "base_uri": "https://localhost:8080/"
        },
        "id": "ecL17JmGj85S",
        "outputId": "5baa8f5a-9a0c-4421-bc42-4a2735b4537c"
      },
      "execution_count": 23,
      "outputs": [
        {
          "output_type": "stream",
          "name": "stdout",
          "text": [
            "0.9745416941882158\n",
            "0.9551003029954536\n"
          ]
        }
      ]
    },
    {
      "cell_type": "code",
      "source": [
        "# 더 많은 특성 만들기\n",
        "\n",
        "poly = PolynomialFeatures(degree=5,include_bias=False)\n",
        "\n",
        "poly.fit(train_input)\n",
        "train_poly = poly.transform(train_input)\n",
        "test_poly = poly.transform(test_input)\n",
        "\n",
        "print(train_poly.shape)\n",
        "\n",
        "lr.fit(train_poly,train_target)\n",
        "\n",
        "print(lr.score(train_poly,train_target))\n",
        "\n",
        "print(lr.score(test_poly,test_target))"
      ],
      "metadata": {
        "colab": {
          "base_uri": "https://localhost:8080/"
        },
        "id": "RbpBCMIQj9GT",
        "outputId": "d148657e-31a0-4f16-c7b4-3de0eb9cd680"
      },
      "execution_count": 24,
      "outputs": [
        {
          "output_type": "stream",
          "name": "stdout",
          "text": [
            "(42, 20)\n",
            "0.9913857513726401\n",
            "0.11999292885942914\n"
          ]
        }
      ]
    },
    {
      "cell_type": "code",
      "source": [
        "# 규제 전에 표준화\n",
        "\n",
        "from sklearn.preprocessing import StandardScaler\n",
        "\n",
        "ss = StandardScaler()\n",
        "ss.fit(train_poly)\n",
        "\n",
        "train_scaled = ss.transform(train_poly)\n",
        "test_scaled = ss.transform(test_poly)\n",
        "\n",
        "print(train_scaled)\n",
        "print(test_scaled)"
      ],
      "metadata": {
        "colab": {
          "base_uri": "https://localhost:8080/"
        },
        "id": "oGfvz9Xmj9Sm",
        "outputId": "f6efa05a-4799-4acb-fb9b-2ea75d703da2"
      },
      "execution_count": 25,
      "outputs": [
        {
          "output_type": "stream",
          "name": "stdout",
          "text": [
            "[[-1.01339619 -1.01007487 -0.9549757  -0.9496784  -0.93942079 -0.88757122\n",
            "  -0.88399964 -0.87785292 -0.8691891  -0.82233944 -0.82171953 -0.81928269\n",
            "  -0.81486775 -0.80835934 -0.7637909  -0.76597773 -0.76668667 -0.76571689\n",
            "  -0.76290623 -0.75814062]\n",
            " [-0.73842893 -0.75254307 -0.76472563 -0.7717585  -0.7747325  -0.76291014\n",
            "  -0.76770896 -0.7701438  -0.7701077  -0.74414953 -0.74888304 -0.75182759\n",
            "  -0.75276277 -0.75151822 -0.71646953 -0.72192479 -0.72588462 -0.72812394\n",
            "  -0.72845668 -0.72674557]\n",
            " [-1.11650891 -0.98919391 -1.02065999 -0.9714645  -0.92689165 -0.92715994\n",
            "  -0.90484569 -0.88325413 -0.86212687 -0.84515835 -0.83603176 -0.82638952\n",
            "  -0.81597363 -0.80456916 -0.77647055 -0.7747107  -0.77201712 -0.76815525\n",
            "  -0.76292803 -0.75618509]\n",
            " [-1.26544951 -1.20148364 -1.11008743 -1.0794873  -1.04749571 -0.97797552\n",
            "  -0.96206357 -0.94494104 -0.92657374 -0.87277966 -0.86595922 -0.85791159\n",
            "  -0.84844182 -0.83740083 -0.79094785 -0.79002471 -0.78789053 -0.78433109\n",
            "  -0.77917142 -0.772285  ]\n",
            " [ 0.86554673  0.89357239  0.78258063  0.79878122  0.80045116  0.67651527\n",
            "   0.68764875  0.69013427  0.68467425  0.55968474  0.5684443   0.57131856\n",
            "   0.56845191  0.56005916  0.44114502  0.44855713  0.45173534  0.45063976\n",
            "   0.44529494  0.43580198]\n",
            " [-0.39471986 -0.55765413 -0.49604314 -0.5750369  -0.63540138 -0.56395379\n",
            "  -0.6103463  -0.64762299 -0.67646942 -0.60309176 -0.63307191 -0.65771343\n",
            "  -0.67715339 -0.69156    -0.61994693 -0.64090443 -0.65840152 -0.67239092\n",
            "  -0.68285398 -0.68981172]\n",
            " [ 1.3238255   1.35295344  1.3618677   1.39093563  1.40131663  1.36984437\n",
            "   1.39999547  1.41779851  1.42380782  1.35386393  1.38642318  1.40957159\n",
            "   1.42305173  1.42673113  1.31876159  1.35400899  1.38163492  1.40108462\n",
            "   1.41191894  1.41385334]\n",
            " [ 1.2092558   1.52696142  1.21132928  1.43800209  1.64729487  1.18272067\n",
            "   1.37570934  1.56537854  1.75049382  1.13144732  1.30665167  1.48417163\n",
            "   1.66249282  1.8398899   1.06393902  1.22696684  1.39520561  1.5672841\n",
            "   1.74157613  1.91625063]\n",
            " [ 1.66753457  1.35295344  1.83634954  1.61345985  1.40131663  1.98973911\n",
            "   1.79645441  1.60719997  1.42380782  2.12857347  1.95001709  1.77261781\n",
            "   1.59774161  1.42673113  2.2523542   2.08331317  1.91378824  1.74489517\n",
            "   1.57783218  1.41385334]\n",
            " [-0.73842893 -0.83606689 -0.76472563 -0.80458689 -0.83056835 -0.76291014\n",
            "  -0.78321194 -0.79712539 -0.80517675 -0.74414953 -0.75666838 -0.76553612\n",
            "  -0.77078831 -0.77249261 -0.71646953 -0.7259268  -0.73298301 -0.73752732\n",
            "  -0.7394809  -0.73880704]\n",
            " [-0.96756831 -1.03095583 -0.92479179 -0.94435622 -0.95180452 -0.86876435\n",
            "  -0.87633655 -0.87860532 -0.87608837 -0.81113459 -0.8158149  -0.81750831\n",
            "  -0.81622876 -0.81201909 -0.75735633 -0.76211646 -0.76487254 -0.76549657\n",
            "  -0.76389266 -0.76000695]\n",
            " [-0.73842893 -0.6724994  -0.76472563 -0.74029797 -0.71904004 -0.76291014\n",
            "  -0.75285195 -0.7432315  -0.73370241 -0.74414953 -0.74142209 -0.73815427\n",
            "  -0.73405041 -0.72885731 -0.71646953 -0.71808953 -0.71880446 -0.71836226\n",
            "  -0.71654602 -0.71318348]\n",
            " [-0.50928955 -0.26184057 -0.58941507 -0.48824064 -0.39971262 -0.63594904\n",
            "  -0.58711853 -0.54177439 -0.49984146 -0.65617843 -0.63260897 -0.60966772\n",
            "  -0.58727278 -0.56537027 -0.65768124 -0.6478076  -0.63751136 -0.62667028\n",
            "  -0.6151947  -0.60303146]\n",
            " [-0.10829564 -0.30360249 -0.24593976 -0.35011895 -0.43475543 -0.35720728\n",
            "  -0.42385784 -0.48043203 -0.52746458 -0.43955403 -0.48535247 -0.52497842\n",
            "  -0.55851823 -0.5861026  -0.49517033 -0.5280796  -0.5568624  -0.5814555\n",
            "  -0.6018276  -0.61799094]\n",
            " [ 1.66753457  1.55480269  1.83634954  1.76852422  1.68758845  1.98973911\n",
            "   1.93958198  1.87758262  1.80527474  2.12857347  2.09050256  2.04111998\n",
            "   1.98097806  1.91080129  2.2523542   2.22446208  2.18553394  2.13565382\n",
            "   2.07512547  2.00449501]\n",
            " [ 1.3238255   1.28335025  1.3618677   1.34119566  1.30575267  1.36984437\n",
            "   1.35728755  1.33383591  1.30054991  1.35386393  1.34742826  1.33201005\n",
            "   1.30786134  1.27536196  1.31876159  1.31756334  1.30861307  1.29182755\n",
            "   1.26726401  1.23514148]\n",
            " [-0.50928955 -0.57853509 -0.58941507 -0.62403078 -0.65093557 -0.63594904\n",
            "  -0.6570741  -0.67420925 -0.68732556 -0.65617843 -0.67093317 -0.68307076\n",
            "  -0.69240047 -0.69878366 -0.65768124 -0.66929887 -0.67897542 -0.6864979\n",
            "  -0.69169207 -0.69443261]\n",
            " [-0.85299862 -0.73862243 -0.84666426 -0.80309469 -0.76520034 -0.81835568\n",
            "  -0.79909928 -0.78108378 -0.76397614 -0.78002987 -0.77260024 -0.76492539\n",
            "  -0.7567264  -0.74776293 -0.73885332 -0.73801909 -0.73639335 -0.73373474\n",
            "  -0.72983629 -0.72453451]\n",
            " [-0.10829564 -0.3453644  -0.24593976 -0.37063669 -0.46921662 -0.35720728\n",
            "  -0.43596954 -0.50124791 -0.55417839 -0.43955403 -0.49295534 -0.53819831\n",
            "  -0.57568189 -0.60581971 -0.49517033 -0.53296486 -0.56541911 -0.59264771\n",
            "  -0.61478183 -0.63198178]\n",
            " [ 1.3238255   1.50956062  1.3618677   1.50285058  1.62224266  1.36984437\n",
            "   1.49608828  1.61190437  1.71661182  1.35386393  1.47416175  1.58887937\n",
            "   1.69669102  1.79626     1.31876159  1.4360117   1.55044779  1.6606291\n",
            "   1.76505673  1.86223954]\n",
            " [ 0.49892372  0.69172313  0.36305483  0.46940311  0.55868969  0.22205979\n",
            "   0.29261589  0.35616197  0.41258796  0.08863132  0.13862886  0.18548834\n",
            "   0.22886885  0.26842925 -0.02979922  0.00639129  0.04130466  0.07463316\n",
            "   0.10604994  0.13522583]\n",
            " [-0.22286533 -0.30360249 -0.34883943 -0.3946984  -0.43475543 -0.44464294\n",
            "  -0.47553175 -0.50323647 -0.52746458 -0.51060116 -0.53312911 -0.55341738\n",
            "  -0.57115926 -0.5861026  -0.55082007 -0.56827673 -0.5839746  -0.59764188\n",
            "  -0.60904324 -0.61799094]\n",
            " [ 0.92283158  0.98753669  0.8516568   0.89303848  0.91763011  0.7553113\n",
            "   0.78698737  0.80904728  0.82195335  0.64562983  0.67215543  0.69231232\n",
            "   0.70600059  0.71319391  0.53150034  0.55462523  0.57326872  0.58717096\n",
            "   0.59613154  0.6000306 ]\n",
            " [-1.68935736 -1.57038055 -1.32935902 -1.27536954 -1.22132034 -1.08577536\n",
            "  -1.059107   -1.03182716 -1.0039527  -0.92368967 -0.91197126 -0.89929637\n",
            "  -0.88548005 -0.87038037 -0.81422736 -0.8111221  -0.80692574 -0.80142603\n",
            "  -0.79444972 -0.78587163]\n",
            " [-0.65823015 -0.72818195 -0.70510098 -0.73628768 -0.75800881 -0.72097288\n",
            "  -0.73833986 -0.75106948 -0.75932276 -0.71594341 -0.72759607 -0.73637363\n",
            "  -0.74216252 -0.74489606 -0.69818299 -0.70751443 -0.71480341 -0.7198722\n",
            "  -0.72258073 -0.72283653]\n",
            " [-1.54041677 -1.46945593 -1.25826297 -1.21979133 -1.17827415 -1.05364945\n",
            "  -1.03282103 -1.01045872 -0.98669659 -0.90979988 -0.90034705 -0.88962061\n",
            "  -0.87747149 -0.86379064 -0.80843521 -0.80620804 -0.8027766  -0.79794044\n",
            "  -0.79153707 -0.78345116]\n",
            " [ 0.98011642  0.87965175  0.92168575  0.85554697  0.78334174  0.83629597\n",
            "   0.78371087  0.72616513  0.66492014  0.73518042  0.69146733  0.64362219\n",
            "   0.59233642  0.53834357  0.62694462  0.59015104  0.54987906  0.50656103\n",
            "   0.4606977   0.41285268]\n",
            " [ 0.75097704  1.19982642  0.64728661  0.92431249  1.19320854  0.52536921\n",
            "   0.73098261  0.94214092  1.15808887  0.39822005  0.56117416  0.73349771\n",
            "   0.91461579  1.10365952  0.27488186  0.40737465  0.55015885  0.7029654\n",
            "   0.8652483   1.03618631]\n",
            " [ 0.02918799 -0.15743579 -0.11742949 -0.2216779  -0.30956099 -0.24355679\n",
            "  -0.31315163 -0.37414458 -0.42670551 -0.34343608 -0.39300376 -0.43715175\n",
            "  -0.4757862  -0.50887153 -0.41680703 -0.45341392 -0.4862861  -0.51526116\n",
            "  -0.54021349 -0.56106636]\n",
            " [-0.5665744  -0.61333668 -0.63467187 -0.65847571 -0.67650277 -0.66977302\n",
            "  -0.68466742 -0.6964345  -0.70497055 -0.68035058 -0.69133259 -0.70013649\n",
            "  -0.70654144 -0.71037838 -0.67433188 -0.6836391  -0.69124129 -0.696912\n",
            "  -0.7004636  -0.70175733]\n",
            " [ 1.2092558   1.07802084  1.21132928  1.12519981  1.033252    1.18272067\n",
            "   1.11384441  1.03936724  0.96074813  1.13144732  1.07353057  1.01040966\n",
            "   0.94288921  0.87183585  1.06393902  1.01453292  0.96032382  0.9018098\n",
            "   0.83958962  0.77435816]\n",
            " [-0.85299862 -0.8186661  -0.84666426 -0.8331252  -0.81912774 -0.81835568\n",
            "  -0.81263636 -0.80595863 -0.79811068 -0.78002987 -0.77908933 -0.77698909\n",
            "  -0.77347408 -0.76833733 -0.73885332 -0.74120314 -0.74235609 -0.74207438\n",
            "  -0.74015872 -0.7364579 ]\n",
            " [-0.62385924 -0.98223359 -0.6789759  -0.82958122 -0.92268296 -0.70218788\n",
            "  -0.77899186 -0.82955089 -0.85973625 -0.70302809 -0.74613664 -0.7755903\n",
            "  -0.79395401 -0.80327626 -0.68962417 -0.71599207 -0.73471359 -0.74695184\n",
            "  -0.75363378 -0.75551288]\n",
            " [-0.73842893 -0.87782881 -0.76472563 -0.82100108 -0.85761384 -0.76291014\n",
            "  -0.79096343 -0.8101946  -0.82163074 -0.74414953 -0.76056104 -0.77217618\n",
            "  -0.77924568 -0.782024   -0.71646953 -0.7279278  -0.73642129 -0.74193928\n",
            "  -0.74449064 -0.74411516]\n",
            " [ 1.78210426  1.54784238  2.00213235  1.84083371  1.67749082  2.21667807\n",
            "   2.07967063  1.93724544  1.79151358  2.4256248   2.30167099  2.17068468\n",
            "   2.03397399  1.89294536  2.62713913  2.51236267  2.38948507  2.25940693\n",
            "   2.12322455  1.98222128]\n",
            " [-0.68114409 -0.43584855 -0.72232715 -0.62617581 -0.54188724 -0.73322359\n",
            "  -0.68876371 -0.64740019 -0.60901133 -0.72427389 -0.70400201 -0.68415188\n",
            "  -0.66459115 -0.64521706 -0.70364297 -0.69610124 -0.6880277  -0.67926351\n",
            "  -0.66968272 -0.65919792]\n",
            " [-1.08213801 -0.83606689 -0.99910823 -0.90978693 -0.83056835 -0.914376\n",
            "  -0.87579737 -0.8394566  -0.80517675 -0.8379075  -0.82177149 -0.80561771\n",
            "  -0.78924627 -0.77249261 -0.77250657 -0.76765375 -0.76204403 -0.75547222\n",
            "  -0.74776863 -0.73880704]\n",
            " [ 0.98011642  0.97361606  0.92168575  0.91765977  0.90008447  0.83629597\n",
            "   0.83304252  0.82104265  0.80117911  0.73518042  0.73313191  0.72469319\n",
            "   0.71012638  0.68977465  0.62694462  0.62617126  0.62048052  0.60990457\n",
            "   0.59455824  0.57464985]\n",
            " [-0.73842893 -0.6724994  -0.76472563 -0.74029797 -0.71904004 -0.76291014\n",
            "  -0.75285195 -0.7432315  -0.73370241 -0.74414953 -0.74142209 -0.73815427\n",
            "  -0.73405041 -0.72885731 -0.71646953 -0.71808953 -0.71880446 -0.71836226\n",
            "  -0.71654602 -0.71318348]\n",
            " [-0.32597805 -0.51589222 -0.43819065 -0.53191234 -0.60389678 -0.51789377\n",
            "  -0.57375608 -0.61886945 -0.65414268 -0.56802625 -0.60433284 -0.63434109\n",
            "  -0.6583037  -0.67649461 -0.59421539 -0.61941619 -0.64056874 -0.65769053\n",
            "  -0.67082212 -0.68003865]\n",
            " [ 1.55296488  1.65572732  1.67437783  1.76647245  1.83581963  1.77311374\n",
            "   1.86593885  1.94490872  2.00979968  1.85153936  1.94943183  2.03748403\n",
            "   2.11453084  2.1794988   1.91085769  2.01522052  2.11216789  2.20020083\n",
            "   2.27787402  2.34387243]\n",
            " [ 0.6936922   0.7717668   0.58106876  0.62475349  0.6529349   0.45295921\n",
            "   0.48230441  0.50344372  0.51683303  0.32250831  0.34389642  0.36029979\n",
            "   0.37172233  0.37821904  0.19857835  0.21469036  0.22761824  0.23725131\n",
            "   0.24351659  0.24639131]]\n",
            "[[-2.29657672 -2.0645632  -1.55255604 -1.46585499 -1.38306012 -1.16487216\n",
            "  -1.12766176 -1.09096504 -1.05473034 -0.95097661 -0.93581382 -0.92003743\n",
            "  -0.90344054 -0.88585964 -0.82345261 -0.81922614 -0.81401521 -0.80760074\n",
            "  -0.79980303 -0.79049072]\n",
            " [-1.1967077  -0.98223359 -1.06961356 -0.99185789 -0.92268296 -0.95543049\n",
            "  -0.92180981 -0.8899864  -0.85973625 -0.86077079 -0.84687971 -0.83281408\n",
            "  -0.81834373 -0.80327626 -0.78478184 -0.78096749 -0.77633489 -0.7706636\n",
            "  -0.76376939 -0.75551288]\n",
            " [-0.10829564 -0.26532073 -0.24593976 -0.33131102 -0.40265507 -0.35720728\n",
            "  -0.41275545 -0.46104218 -0.50217849 -0.43955403 -0.47838318 -0.51266418\n",
            "  -0.54227188 -0.56713757 -0.49517033 -0.52360145 -0.54889187 -0.57086145\n",
            "  -0.58936748 -0.60431627]\n",
            " [-0.81862772 -0.57853509 -0.82248284 -0.73113338 -0.65093557 -0.8022618\n",
            "  -0.76121974 -0.72296056 -0.68732556 -0.76978797 -0.75179697 -0.73407251\n",
            "  -0.71644692 -0.69878366 -0.73257105 -0.72649476 -0.71980781 -0.71232779\n",
            "  -0.70390569 -0.69443261]\n",
            " [-0.68114409 -0.75950338 -0.72232715 -0.75627694 -0.77947435 -0.73322359\n",
            "  -0.7515994  -0.76481887 -0.77314237 -0.72427389 -0.73627421 -0.74516458\n",
            "  -0.75087205 -0.75336735 -0.70364297 -0.7130676  -0.72033861 -0.72529665\n",
            "  -0.72781884 -0.72782876]\n",
            " [ 1.3238255   1.07802084  1.3618677   1.19446273  1.033252    1.36984437\n",
            "   1.23129919  1.09441651  0.96074813  1.35386393  1.23239325  1.11084329\n",
            "   0.99030039  0.87183585  1.31876159  1.21004868  1.10039124  0.99062375\n",
            "   0.88163698  0.77435816]\n",
            " [ 0.17812859 -0.14699531  0.027983   -0.15473411 -0.3003459  -0.10923639\n",
            "  -0.23224777 -0.33485164 -0.41906495 -0.22478082 -0.31284136 -0.38791008\n",
            "  -0.45093717 -0.50283979 -0.3157627  -0.38061879 -0.43664275 -0.48431807\n",
            "  -0.52411135 -0.5564887 ]\n",
            " [-0.44054774 -0.45672951 -0.53384924 -0.54669755 -0.55826963 -0.59345801\n",
            "  -0.60397658 -0.61330454 -0.62108537 -0.62510833 -0.63439993 -0.64246531\n",
            "  -0.64898548 -0.65368977 -0.6357825  -0.64453288 -0.6520728  -0.65813193\n",
            "  -0.66247532 -0.66491373]\n",
            " [ 1.2092558   1.07802084  1.21132928  1.12519981  1.033252    1.18272067\n",
            "   1.11384441  1.03936724  0.96074813  1.13144732  1.07353057  1.01040966\n",
            "   0.94288921  0.87183585  1.06393902  1.01453292  0.96032382  0.9018098\n",
            "   0.83958962  0.77435816]\n",
            " [-0.85299862 -0.8186661  -0.84666426 -0.8331252  -0.81912774 -0.81835568\n",
            "  -0.81263636 -0.80595863 -0.79811068 -0.78002987 -0.77908933 -0.77698909\n",
            "  -0.77347408 -0.76833733 -0.73885332 -0.74120314 -0.74235609 -0.74207438\n",
            "  -0.74015872 -0.7364579 ]\n",
            " [ 1.72481941  1.58612413  1.91876456  1.83175617  1.73322772  2.1019044\n",
            "   2.03452169  1.95590086  1.86774636  2.27453863  2.22000729  2.15426735\n",
            "   2.07804047  1.99221929  2.43543965  2.3914918   2.33626557  2.27000233\n",
            "   2.1931748   2.10650504]\n",
            " [-1.40293314 -1.20148364 -1.18691919 -1.11373327 -1.04749571 -1.0186101\n",
            "  -0.98676327 -0.95615574 -0.92657374 -0.8933371  -0.88017323 -0.86661376\n",
            "  -0.85242147 -0.83740083 -0.80097634 -0.79747051 -0.79305421 -0.78750181\n",
            "  -0.78062564 -0.772285  ]\n",
            " [-0.05101079 -0.07739212 -0.19306076 -0.21467078 -0.23798294 -0.31103098\n",
            "  -0.32929083 -0.34801063 -0.36657286 -0.40099727 -0.4166512  -0.43210884\n",
            "  -0.44694502 -0.46076936 -0.46413883 -0.47782546 -0.49097158 -0.50325562\n",
            "  -0.51437807 -0.52407211]\n",
            " [-0.13120957  0.09661586 -0.26682458 -0.16383652 -0.07500721 -0.37521441\n",
            "  -0.31995745 -0.2692716  -0.22313594 -0.4543995  -0.42390929 -0.39474505\n",
            "  -0.36693687 -0.34053478 -0.50696686 -0.49100897 -0.47505536 -0.45908482\n",
            "  -0.44310488 -0.42715079]]\n"
          ]
        }
      ]
    },
    {
      "cell_type": "code",
      "source": [
        "# 릿지 회귀\n",
        "\n",
        "from sklearn.linear_model import Ridge\n",
        "\n",
        "ridge = Ridge()\n",
        "ridge.fit(train_scaled,train_target)\n",
        "\n",
        "print(ridge.score(train_scaled,train_target))\n",
        "\n",
        "print(ridge.score(test_scaled,test_target))"
      ],
      "metadata": {
        "colab": {
          "base_uri": "https://localhost:8080/"
        },
        "id": "VL6GDBV2j9ej",
        "outputId": "a20ac218-d24f-4884-ced6-366a8e7dbd81"
      },
      "execution_count": 26,
      "outputs": [
        {
          "output_type": "stream",
          "name": "stdout",
          "text": [
            "0.9714635905358158\n",
            "0.961773334536528\n"
          ]
        }
      ]
    },
    {
      "cell_type": "code",
      "source": [
        "# 적절한 규제 강도 찾기\n",
        "\n",
        "alpha_list = [0.001,0.01,0.1,1,10,100]\n",
        "train_score=[]\n",
        "test_score=[]\n",
        "for alpha in alpha_list:\n",
        "  # 릿지 모델을 만듭니다.\n",
        "  ridge = Ridge(alpha=alpha)\n",
        "  # 릿지 모델을 훈련합니다.\n",
        "  ridge.fit(train_scaled,train_target)\n",
        "  # 훈련 점수와 테스트 점수를 저장합니다.\n",
        "  train_score.append(ridge.score(train_scaled,train_target))\n",
        "  test_score.append(ridge.score(test_scaled,test_target))\n",
        "\n",
        "plt.plot(np.log10(alpha_list),train_score)\n",
        "plt.plot(np.log10(alpha_list),test_score)\n",
        "plt.xlabel('alpha')\n",
        "plt.ylabel('R^2')\n",
        "plt.show()"
      ],
      "metadata": {
        "colab": {
          "base_uri": "https://localhost:8080/",
          "height": 279
        },
        "id": "xKMdw2lcj9rN",
        "outputId": "8c4811e2-dd1c-4421-e034-047cc80838ea"
      },
      "execution_count": 29,
      "outputs": [
        {
          "output_type": "display_data",
          "data": {
            "text/plain": [
              "<Figure size 432x288 with 1 Axes>"
            ],
            "image/png": "[encoded data removed]"
          },
          "metadata": {
            "needs_background": "light"
          }
        }
      ]
    },
    {
      "cell_type": "code",
      "source": [
        "ridge = Ridge(alpha =0.1)\n",
        "ridge.fit(train_scaled,train_target)\n",
        "\n",
        "print(ridge.score(train_scaled,train_target))\n",
        "\n",
        "print(ridge.score(test_scaled,test_target))"
      ],
      "metadata": {
        "colab": {
          "base_uri": "https://localhost:8080/"
        },
        "id": "6Yhm9LBWj93K",
        "outputId": "924c4a11-3e33-442e-d6b0-29663b2cf8bc"
      },
      "execution_count": 30,
      "outputs": [
        {
          "output_type": "stream",
          "name": "stdout",
          "text": [
            "0.9736565382700112\n",
            "0.957968129407248\n"
          ]
        }
      ]
    },
    {
      "cell_type": "code",
      "source": [
        "# 라쏘 회귀\n",
        "\n",
        "from sklearn.linear_model import Lasso\n",
        "\n",
        "lasso = Lasso()\n",
        "lasso.fit(train_scaled,train_target)\n",
        "\n",
        "print(lasso.score(train_scaled,train_target))\n",
        "\n",
        "print(lasso.score(test_scaled,test_target))\n"
      ],
      "metadata": {
        "colab": {
          "base_uri": "https://localhost:8080/"
        },
        "id": "YDXW9gegirn-",
        "outputId": "8a3e5c48-7f72-4911-aa9e-726916611b53"
      },
      "execution_count": 31,
      "outputs": [
        {
          "output_type": "stream",
          "name": "stdout",
          "text": [
            "0.6380277931064858\n",
            "0.6025658372680047\n"
          ]
        }
      ]
    },
    {
      "cell_type": "code",
      "source": [
        "lass = Lasso(alpha=10)\n",
        "lasso.fit(train_scaled,train_target)\n",
        "\n",
        "print(lasso.score(train_scaled,train_target))\n",
        "\n",
        "print(lasso.score(test_scaled,test_target))\n",
        "\n",
        "print(np.sum(lasso.coef_ == 0))"
      ],
      "metadata": {
        "colab": {
          "base_uri": "https://localhost:8080/"
        },
        "id": "PlRHFPmRir2_",
        "outputId": "f6b74337-fda7-4fa2-a7cf-61093e29690e"
      },
      "execution_count": 33,
      "outputs": [
        {
          "output_type": "stream",
          "name": "stdout",
          "text": [
            "0.6380277931064858\n",
            "0.6025658372680047\n",
            "19\n"
          ]
        }
      ]
    },
    {
      "cell_type": "code",
      "source": [],
      "metadata": {
        "id": "2aq-EyyUisDp"
      },
      "execution_count": null,
      "outputs": []
    },
    {
      "cell_type": "code",
      "source": [],
      "metadata": {
        "id": "Zs9hSuaPisPl"
      },
      "execution_count": null,
      "outputs": []
    }
  ]
}