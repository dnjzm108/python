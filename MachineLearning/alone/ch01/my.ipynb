{
  "nbformat": 4,
  "nbformat_minor": 0,
  "metadata": {
    "colab": {
      "provenance": []
    },
    "kernelspec": {
      "name": "python3",
      "display_name": "Python 3"
    },
    "language_info": {
      "name": "python"
    }
  },
  "cells": [
    {
      "cell_type": "code",
      "execution_count": 219,
      "metadata": {
        "id": "WjRN8dlZ-f9b"
      },
      "outputs": [],
      "source": [
        "import sklearn\n",
        "import tensorflow\n",
        "import matplotlib.pyplot as plt\n",
        "from random import *"
      ]
    },
    {
      "cell_type": "markdown",
      "source": [
        "2개의 클래스 (class)\n",
        "분류(classfication)\n",
        "이진 분류(binary classfication)"
      ],
      "metadata": {
        "id": "eFff38tzjphI"
      }
    },
    {
      "cell_type": "code",
      "source": [
        "\n",
        "# 샘플 준비 도미 와 빙어\n",
        "# 도미 샘플\n",
        "bream_length = [round(random(),2)*10 + 20 + i  for i in range(1,36)]\n",
        "bream_weight = [randint(50,100) + 150 + i * randint(10,15) for i in range(1,36)]\n",
        "\n",
        "# 빙어 샘플\n",
        "smelt_length = [round(random(),1) + 9 + i/2 for i in range(1,15)]\n",
        "smelt_length.sort()\n",
        "smelt_weight = [round(random(),1)* 10 + 9 + i for i in range(1,15)]\n",
        "smelt_weight.sort()\n",
        "\n",
        "# # scatter plot  산점도 \n",
        "# plt.scatter(bream_length,bream_weight)\n",
        "# plt.xlabel('length')\n",
        "# plt.ylabel('weight')\n",
        "# plt.show()\n",
        "\n",
        "# 리스트 합치기\n",
        "length = bream_length + smelt_length\n",
        "weight = bream_weight + smelt_weight\n",
        "fish_data = [[l,w] for l,w in zip(length,weight)]"
      ],
      "metadata": {
        "id": "EHOK-NT7_Pde"
      },
      "execution_count": 230,
      "outputs": []
    },
    {
      "cell_type": "code",
      "source": [
        "# 정답 준비\n",
        "fish_target = [1]*35 + [0]*14"
      ],
      "metadata": {
        "id": "RmzfntmND6ri"
      },
      "execution_count": 231,
      "outputs": []
    },
    {
      "cell_type": "code",
      "source": [
        "# k-최근접 이웃\n",
        "from sklearn.neighbors import KNeighborsClassifier\n",
        "\n",
        "# 모델\n",
        "kn = KNeighborsClassifier()\n",
        "\n",
        "kn.fit(fish_data, fish_target)\n",
        "\n",
        "kn.score(fish_data, fish_target)\n",
        "\n"
      ],
      "metadata": {
        "colab": {
          "base_uri": "https://localhost:8080/"
        },
        "id": "BPRCb8OYD7-B",
        "outputId": "80cc770a-271b-45d4-8b75-3e0aab14562c"
      },
      "execution_count": 232,
      "outputs": [
        {
          "output_type": "execute_result",
          "data": {
            "text/plain": [
              "1.0"
            ]
          },
          "metadata": {},
          "execution_count": 232
        }
      ]
    },
    {
      "cell_type": "code",
      "source": [
        "kn.predict([[30,600]])"
      ],
      "metadata": {
        "colab": {
          "base_uri": "https://localhost:8080/"
        },
        "id": "1pZa2d4Ehz53",
        "outputId": "3af205cb-9540-487d-9bb6-4e3bda155874"
      },
      "execution_count": 224,
      "outputs": [
        {
          "output_type": "execute_result",
          "data": {
            "text/plain": [
              "array([1])"
            ]
          },
          "metadata": {},
          "execution_count": 224
        }
      ]
    },
    {
      "cell_type": "code",
      "source": [
        "kn49 = KNeighborsClassifier(n_neighbors=49)\n",
        "kn49.fit(fish_data,fish_target)\n",
        "kn49.score(fish_data,fish_target)\n",
        "\n",
        "# print(35/49) 확률"
      ],
      "metadata": {
        "colab": {
          "base_uri": "https://localhost:8080/"
        },
        "id": "ZpOcz7TQiukF",
        "outputId": "de22e756-e435-4a6d-93e6-12dc3ecfa4c7"
      },
      "execution_count": 233,
      "outputs": [
        {
          "output_type": "execute_result",
          "data": {
            "text/plain": [
              "0.7142857142857143"
            ]
          },
          "metadata": {},
          "execution_count": 233
        }
      ]
    },
    {
      "cell_type": "markdown",
      "source": [
        "# 지도 학습 과 비지도 학습\n",
        "k-최근접 이웃 => 지도학습  타겟 데이터가 를 가르치는 학습하는 알고리즘\n",
        "비지도 학습 - 타겟 데이터 없이 입력 데이터 만으로 하는 알고리즘\n",
        "강화 학습 - 어떤 행동을 수행 후 주변에 환경에서 결과를 피드백 받아 개선해나가는 알고리즘"
      ],
      "metadata": {
        "id": "_HbC7yXipPE0"
      }
    },
    {
      "cell_type": "code",
      "source": [
        "# 훈련 세트 와 테스트 세트\n",
        "\n",
        "train_input = fish_data[:35]\n",
        "train_target = fish_target[:35]\n",
        "\n",
        "test_input = fish_data[35:]\n",
        "test_target = fish_target[35:]"
      ],
      "metadata": {
        "id": "__YdhlSjiu3H"
      },
      "execution_count": 234,
      "outputs": []
    },
    {
      "cell_type": "code",
      "source": [
        "# 테스트 세트에서 평가하기\n",
        "\n",
        "from sklearn.neighbors import KNeighborsClassifier\n",
        "\n",
        "kn = KNeighborsClassifier()\n",
        "kn = kn.fit(train_input,train_target)\n",
        "\n",
        "kn.score(test_input,test_target)"
      ],
      "metadata": {
        "colab": {
          "base_uri": "https://localhost:8080/"
        },
        "id": "KG52hsVepVhP",
        "outputId": "5d5611e8-8627-4a86-b231-60006858e5cc"
      },
      "execution_count": 235,
      "outputs": [
        {
          "output_type": "execute_result",
          "data": {
            "text/plain": [
              "0.0"
            ]
          },
          "metadata": {},
          "execution_count": 235
        }
      ]
    },
    {
      "cell_type": "markdown",
      "source": [
        "샘플링 편향\n",
        "\n",
        "샘플링은 골고루 섞어서 훈련세트 와 테스트 세트를 나눠 주어야 한다."
      ],
      "metadata": {
        "id": "NpAJIhvEpapM"
      }
    },
    {
      "cell_type": "code",
      "source": [
        "import numpy as np\n",
        "\n",
        "input_arr = np.array(fish_data)\n",
        "target_arr = np.array(fish_target)\n",
        "\n",
        "index = np.arange(49)\n",
        "np.random.shuffle(index)\n",
        "\n",
        "train_input = input_arr[index[:35]]\n",
        "train_target = target_arr[index[:35]]\n",
        "\n",
        "test_input = input_arr[index[35:]]\n",
        "test_target = target_arr[index[35:]]\n"
      ],
      "metadata": {
        "id": "svmrNVOvpbhh"
      },
      "execution_count": 236,
      "outputs": []
    },
    {
      "cell_type": "code",
      "source": [
        "plt.scatter(train_input[:,0],train_input[:,1])\n",
        "plt.scatter(test_input[:,0],test_input[:,1])\n",
        "plt.xlabel('length')\n",
        "plt.ylabel('weight')\n",
        "plt.show()"
      ],
      "metadata": {
        "colab": {
          "base_uri": "https://localhost:8080/",
          "height": 279
        },
        "id": "slPn_a-rqJUe",
        "outputId": "598ff00e-755e-4be6-c426-3c282a9ba6d0"
      },
      "execution_count": 237,
      "outputs": [
        {
          "output_type": "display_data",
          "data": {
            "text/plain": [
              "<Figure size 432x288 with 1 Axes>"
            ],
            "image/png": "[encoded data removed]"
          },
          "metadata": {
            "needs_background": "light"
          }
        }
      ]
    },
    {
      "cell_type": "code",
      "source": [
        "# 두번째 머신 러닝 프로그램\n",
        "\n",
        "kn = kn.fit(train_input,train_target)\n",
        "kn.score(test_input,test_target)\n",
        "kn.predict(test_input)"
      ],
      "metadata": {
        "colab": {
          "base_uri": "https://localhost:8080/"
        },
        "id": "9HGSm1_3stg_",
        "outputId": "4a7c8ef9-84f3-42fb-a8fc-44a8e4bf9b97"
      },
      "execution_count": 238,
      "outputs": [
        {
          "output_type": "execute_result",
          "data": {
            "text/plain": [
              "array([1, 1, 0, 1, 1, 0, 0, 1, 0, 1, 1, 0, 1, 0])"
            ]
          },
          "metadata": {},
          "execution_count": 238
        }
      ]
    },
    {
      "cell_type": "markdown",
      "source": [
        "## 데이터 전처리\n",
        "넘파이로 데이터 준비"
      ],
      "metadata": {
        "id": "_mQbqfAuNN95"
      }
    },
    {
      "cell_type": "code",
      "source": [
        "# stack 세로로 쌓이면서 인자가 2개면 2차 배열 \n",
        "fish_data = np.column_stack((length,weight))\n",
        "# concatenate 뒤로 붙여주는 함수 배열을 합쳐줌\n",
        "fish_target = np.concatenate((np.ones(35), np.zeros(14)))\n",
        "\n",
        "# np.full((2,3),9) 2줄 3칸 배열을 9로 채워줌  "
      ],
      "metadata": {
        "id": "aMc0dlYuNNgN"
      },
      "execution_count": 239,
      "outputs": []
    },
    {
      "cell_type": "markdown",
      "source": [
        "사이킷런으로 데이터 나누기"
      ],
      "metadata": {
        "id": "Dtc4b76GPWIs"
      }
    },
    {
      "cell_type": "code",
      "source": [
        "from sklearn.model_selection import train_test_split\n",
        "\n",
        "train_input,test_input,train_target,test_target = train_test_split(fish_data,fish_target,stratify=fish_target,random_state=42)\n"
      ],
      "metadata": {
        "id": "NOp-FC0TOfOn"
      },
      "execution_count": 240,
      "outputs": []
    },
    {
      "cell_type": "code",
      "source": [
        "kn = KNeighborsClassifier()\n",
        "\n",
        "kn.fit(train_input,train_target)\n",
        "kn.score(test_input,test_target)\n",
        "\n",
        "print(kn.predict([[25,150]]))\n",
        "\n",
        "distances,indexes = kn.kneighbors([[25,150]])\n",
        "\n",
        "plt.scatter(train_input[:,0],train_input[:,1])\n",
        "plt.scatter(25,150,marker='^')\n",
        "plt.scatter(train_input[indexes,0],train_input[indexes,1],marker='D')\n",
        "\n",
        "plt.xlabel('length')\n",
        "plt.ylabel('weight')\n",
        "plt.show()"
      ],
      "metadata": {
        "colab": {
          "base_uri": "https://localhost:8080/",
          "height": 297
        },
        "id": "MTw-UBrBOfjY",
        "outputId": "5426f45a-870d-4f1a-901f-a5711a7521d2"
      },
      "execution_count": 241,
      "outputs": [
        {
          "output_type": "stream",
          "name": "stdout",
          "text": [
            "[0.]\n"
          ]
        },
        {
          "output_type": "display_data",
          "data": {
            "text/plain": [
              "<Figure size 432x288 with 1 Axes>"
            ],
            "image/png": "[encoded data removed]"
          },
          "metadata": {
            "needs_background": "light"
          }
        }
      ]
    },
    {
      "cell_type": "code",
      "source": [
        "# 기준을 맞춰라\n",
        "\n",
        "plt.scatter(train_input[:,0],train_input[:,1])\n",
        "plt.scatter(25,150,marker='^')\n",
        "plt.scatter(train_input[indexes,0],train_input[indexes,1],marker='D')\n",
        "\n",
        "# x,y축 조절 스케일을 맞춰 주는 것\n",
        "plt.xlim((0,1000))\n",
        "plt.xlabel('length')\n",
        "plt.ylabel('weight')\n",
        "plt.show()"
      ],
      "metadata": {
        "colab": {
          "base_uri": "https://localhost:8080/",
          "height": 279
        },
        "id": "a02pn9nWSF2-",
        "outputId": "72ab9089-660e-4bfb-b74c-b2bcb5975eb2"
      },
      "execution_count": 242,
      "outputs": [
        {
          "output_type": "display_data",
          "data": {
            "text/plain": [
              "<Figure size 432x288 with 1 Axes>"
            ],
            "image/png": "[encoded data removed]"
          },
          "metadata": {
            "needs_background": "light"
          }
        }
      ]
    },
    {
      "cell_type": "code",
      "source": [
        "# 표준 점수 로 바꾸기\n",
        "\n",
        "# 평균 구하기  axis =1 경우 가로로 개별의 평균을 각각 구한다. 0은 세로\n",
        "mean = np.mean(train_input,axis=0)\n",
        "# 표준 편차 구하기\n",
        "std = np.std(train_input,axis=0)\n",
        "print(mean,std)\n",
        "\n",
        "# 넘파이 배열끼리는 자동으로 브로드 캐스팅 하여 계산 해준다.\n",
        "train_scaled = (train_input - mean) / std\n",
        "print(train_scaled)"
      ],
      "metadata": {
        "colab": {
          "base_uri": "https://localhost:8080/"
        },
        "id": "heyYegi8TP5O",
        "outputId": "ed35900b-5003-480a-cbcd-539027209b2c"
      },
      "execution_count": 244,
      "outputs": [
        {
          "output_type": "stream",
          "name": "stdout",
          "text": [
            "[ 34.94166667 326.33333333] [ 15.95567428 212.88311869]\n",
            "[[ 0.06632959 -0.04853994]\n",
            " [-1.29368815 -1.42018463]\n",
            " [ 0.58652071  0.7406255 ]\n",
            " [-1.42530277 -1.43897428]\n",
            " [ 1.16311809  1.21506425]\n",
            " [-0.19689965 -0.18006751]\n",
            " [ 1.43888205  1.35598665]\n",
            " [ 1.35740633  1.08353668]\n",
            " [ 0.06006223  0.25679193]\n",
            " [ 0.7557395   1.25264356]\n",
            " [ 1.15058336  0.98958841]\n",
            " [-1.43157013 -1.43897428]\n",
            " [ 0.66172906  0.66076948]\n",
            " [-1.3187576  -1.42018463]\n",
            " [-0.55413933 -0.2834106 ]\n",
            " [ 0.62412488  0.280279  ]\n",
            " [ 0.25435048  0.32725313]\n",
            " [ 1.43261469  1.57676508]\n",
            " [ 0.62412488  0.62788758]\n",
            " [-1.20594507 -1.40609239]\n",
            " [ 0.07886432  0.32725313]\n",
            " [-0.4413268  -0.4947942 ]\n",
            " [-1.57571947 -1.47185618]\n",
            " [ 0.16034003  0.41650398]\n",
            " [-1.51304584 -1.46246135]\n",
            " [ 0.71813533  0.50105742]\n",
            " [-1.50677848 -1.45776394]\n",
            " [ 1.10671182  0.87215308]\n",
            " [ 0.42356927  0.18633073]\n",
            " [ 0.71186796  1.07883926]\n",
            " [-1.24354924 -1.41548722]\n",
            " [-0.23450383  0.2098178 ]\n",
            " [ 0.13527058  0.280279  ]\n",
            " [-1.17460825 -1.39669756]\n",
            " [-0.16556283 -0.05793476]\n",
            " [ 1.77105228  1.15399788]]\n"
          ]
        }
      ]
    },
    {
      "cell_type": "code",
      "source": [
        "#  수상한 도미 다시 표시하기\n",
        "\n",
        "new = ([25,150] - mean) / std\n",
        "\n",
        "plt.scatter(train_scaled[:,0],train_scaled[:,1])\n",
        "plt.scatter(new[0],new[1],marker='^')\n",
        "\n",
        "plt.xlabel('lenght')\n",
        "plt.ylabel('weight')\n",
        "plt.show()"
      ],
      "metadata": {
        "colab": {
          "base_uri": "https://localhost:8080/",
          "height": 279
        },
        "id": "hF2DUFIkVHK1",
        "outputId": "a0e7e050-43e2-4324-9f43-f0c308e7a7e3"
      },
      "execution_count": 245,
      "outputs": [
        {
          "output_type": "display_data",
          "data": {
            "text/plain": [
              "<Figure size 432x288 with 1 Axes>"
            ],
            "image/png": "[encoded data removed]"
          },
          "metadata": {
            "needs_background": "light"
          }
        }
      ]
    },
    {
      "cell_type": "code",
      "source": [
        "# 전처리 데이터 에서 모델 훈련\n",
        "\n",
        "kn.fit(train_scaled,train_target)\n",
        "test_scaled = (test_input - mean) / std\n",
        "kn.score(test_scaled, test_target)\n",
        "\n",
        "print(kn.predict([new]))\n",
        "\n",
        "distances,indexes = kn.kneighbors([new])\n",
        "\n",
        "plt.scatter(train_scaled[:,0],train_scaled[:,1])\n",
        "plt.scatter(new[0],new[1],marker='^')\n",
        "plt.scatter(train_scaled[indexes,0],train_scaled[indexes,1],marker='D')\n",
        "\n",
        "plt.xlabel('length')\n",
        "plt.ylabel('weight')\n",
        "plt.show()"
      ],
      "metadata": {
        "colab": {
          "base_uri": "https://localhost:8080/",
          "height": 297
        },
        "id": "5aAUZ7niV7zf",
        "outputId": "8dc01b2f-2cfc-40bc-fe6c-7cf45a211a04"
      },
      "execution_count": 246,
      "outputs": [
        {
          "output_type": "stream",
          "name": "stdout",
          "text": [
            "[1.]\n"
          ]
        },
        {
          "output_type": "display_data",
          "data": {
            "text/plain": [
              "<Figure size 432x288 with 1 Axes>"
            ],
            "image/png": "[encoded data removed]"
          },
          "metadata": {
            "needs_background": "light"
          }
        }
      ]
    }
  ]
}